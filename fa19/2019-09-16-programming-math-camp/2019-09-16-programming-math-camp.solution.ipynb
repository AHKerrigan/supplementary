{
 "cells": [
  {
   "cell_type": "markdown",
   "metadata": {
    "nb-title": true,
    "title": "A Math Refresher and Scientic Computing Crash Course"
   },
   "source": [
    "<img src=\"https://ucfai.org/supplementary/fa19/2019-09-16-programming-math-camp/programming-math-camp/banner.png\">\n",
    "\n",
    "<div class=\"col-12\">\n",
    "    <span class=\"btn btn-success btn-block\">\n",
    "        Meeting in-person? Have you signed in?\n",
    "    </span>\n",
    "</div>\n",
    "\n",
    "<div class=\"col-12\">\n",
    "    <h1> A Math Refresher and Scientic Computing Crash Course </h1>\n",
    "    <hr>\n",
    "</div>\n",
    "\n",
    "<div style=\"line-height: 2em;\">\n",
    "    <p>by: \n",
    "        <strong> John Muchovej</strong>\n",
    "        (<a href=\"https://github.com/ionlights\">@ionlights</a>)\n",
    "     on 2019-09-16</p>\n",
    "</div>"
   ]
  }
 ],
 "metadata": {
  "autobot": {
   "authors": [
    {
     "author": "John Muchovej",
     "github": "ionlights",
     "web": null
    }
   ],
   "categories": [
    "fa19"
   ],
   "date": "2019-09-16",
   "description": "We'll be covering the foundational mathematics for Machine Learning, spanning Multivariate Calculus to Linear Algebra, with a sprinkling of Statistics. Followed by coverage of fundamental programming ideas for Data Science, Machine Learning, and generally intelligence research and engineering.",
   "tags": [
    "python",
    "basics",
    "linear-algebra",
    "calculus",
    "derivatives",
    "gradients"
   ],
   "title": "A Math Refresher and Scientic Computing Crash Course"
  }
 },
 "nbformat": 4,
 "nbformat_minor": 2
}
