{
 "cells": [
  {
   "cell_type": "markdown",
   "metadata": {
    "nb-title": true,
    "title": "Applications of Neural Networks"
   },
   "source": [
    "<img src=\"https://ucfai.org/supplementary/fa19/2019-09-23-app-nns/app-nns/banner.png\">\n",
    "\n",
    "<div class=\"col-12\">\n",
    "    <span class=\"btn btn-success btn-block\">\n",
    "        Meeting in-person? Have you signed in?\n",
    "    </span>\n",
    "</div>\n",
    "\n",
    "<div class=\"col-12\">\n",
    "    <h1> Applications of Neural Networks </h1>\n",
    "    <hr>\n",
    "</div>\n",
    "\n",
    "<div style=\"line-height: 2em;\">\n",
    "    <p>by: \n",
    "        <strong> Brandon</strong>\n",
    "        (<a href=\"https://github.com/brandons209\">@brandons209</a>)\n",
    "     on 2019-09-23</p>\n",
    "</div>"
   ]
  }
 ],
 "metadata": {
  "autobot": {
   "authors": [
    {
     "author": "Brandon",
     "github": "brandons209",
     "web": null
    }
   ],
   "categories": [
    "fa19"
   ],
   "date": "2019-09-23",
   "description": "In this supplmentary workshop we will be taking a dive into different datasets that shows how machine learning can directly help people. This is a full hands on workshop where we will together work in analyzing our data, building our dataloaders and finally our models together. Come and help create the future!",
   "tags": [
    "python",
    "neural networks",
    "nns",
    "rnns",
    "cnns",
    "real-world"
   ],
   "title": "Applications of Neural Networks"
  }
 },
 "nbformat": 4,
 "nbformat_minor": 2
}
